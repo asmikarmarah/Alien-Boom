{
 "cells": [
  {
   "cell_type": "markdown",
   "id": "3fcc80e8",
   "metadata": {
    "papermill": {
     "duration": 0.010012,
     "end_time": "2023-02-21T08:26:14.905906",
     "exception": false,
     "start_time": "2023-02-21T08:26:14.895894",
     "status": "completed"
    },
    "tags": []
   },
   "source": [
    "### Goals\n",
    "- How to make up some data that we can apply PCA to.\n",
    "- How to use the __PCA()__ function from sklearn to do PCA.\n",
    "- How to determine how much variation each principal component accounts for.\n",
    "- How to draw a fancy PCA graph using matplotlib.\n",
    "- How to examine the loading scores to determine what variables have the largest effect on the graph."
   ]
  },
  {
   "cell_type": "code",
   "execution_count": 1,
   "id": "650bca1f",
   "metadata": {
    "execution": {
     "iopub.execute_input": "2023-02-21T08:26:14.926687Z",
     "iopub.status.busy": "2023-02-21T08:26:14.926084Z",
     "iopub.status.idle": "2023-02-21T08:26:16.211795Z",
     "shell.execute_reply": "2023-02-21T08:26:16.210739Z"
    },
    "papermill": {
     "duration": 1.299333,
     "end_time": "2023-02-21T08:26:16.214216",
     "exception": false,
     "start_time": "2023-02-21T08:26:14.914883",
     "status": "completed"
    },
    "tags": []
   },
   "outputs": [
    {
     "name": "stdout",
     "output_type": "stream",
     "text": [
      "       wt1  wt2  wt3  wt4  wt5  ko1  ko2  ko3  ko4  ko5\n",
      "gene1  536  536  522  557  544  319  306  310  320  305\n",
      "gene2  107  106   83  111  108  204  215  205  219  238\n",
      "gene3  967  934  977  943  911  463  434  413  415  409\n",
      "gene4   71   60   74   67   37  595  606  612  606  592\n",
      "gene5  717  693  714  701  678  902  962  949  885  953\n"
     ]
    }
   ],
   "source": [
    "import pandas as pd # makes it easy to manipulate data\n",
    "import numpy as np # allow us to generate random numbers and do other mathy things\n",
    "import random as rd # useful for generating an example dataset\n",
    "from sklearn.decomposition import PCA # PCA function\n",
    "from sklearn import preprocessing # gives us functions for scaling the data before performing PCA\n",
    "import matplotlib.pyplot as plt # to plot fancy graphs\n",
    "\n",
    "# generate a sample dataset\n",
    "genes = ['gene' + str(i) for i in range(1,101)]\n",
    "\n",
    "# create arrays of sample names\n",
    "wt = ['wt' + str(i) for i in range(1,6)]\n",
    "ko = ['ko' + str(i) for i in range(1,6)]\n",
    "\n",
    "# create a Dataframe to store made up data\n",
    "data = pd.DataFrame(columns=[*wt, *ko], index=genes)\n",
    "\n",
    "\n",
    "# for each gene in the index (i.e. gene1, gene2, ...gene100),\n",
    "# we create 5 values for the \"wt\" samples and 5 values for the \"ko\" samples.\n",
    "for gene in data.index:\n",
    "    # made up data comes from two poisson distributions\n",
    "    # for each gene, we select new mean for the poisson distribution(vary between 10-1000)\n",
    "    data.loc[gene, 'wt1':'wt5'] = np.random.poisson(lam=rd.randrange(10,1000), size=5)\n",
    "    data.loc[gene, 'ko1':'ko5'] = np.random.poisson(lam=rd.randrange(10,1000), size=5)\n",
    "    \n",
    "print(data.head())"
   ]
  },
  {
   "cell_type": "code",
   "execution_count": 2,
   "id": "a28fb7ba",
   "metadata": {
    "execution": {
     "iopub.execute_input": "2023-02-21T08:26:16.234918Z",
     "iopub.status.busy": "2023-02-21T08:26:16.234614Z",
     "iopub.status.idle": "2023-02-21T08:26:16.242912Z",
     "shell.execute_reply": "2023-02-21T08:26:16.242089Z"
    },
    "papermill": {
     "duration": 0.021378,
     "end_time": "2023-02-21T08:26:16.245374",
     "exception": false,
     "start_time": "2023-02-21T08:26:16.223996",
     "status": "completed"
    },
    "tags": []
   },
   "outputs": [
    {
     "data": {
      "text/plain": [
       "(100, 10)"
      ]
     },
     "execution_count": 2,
     "metadata": {},
     "output_type": "execute_result"
    }
   ],
   "source": [
    "# return dimensions\n",
    "data.shape"
   ]
  },
  {
   "cell_type": "markdown",
   "id": "01505a7f",
   "metadata": {
    "papermill": {
     "duration": 0.009846,
     "end_time": "2023-02-21T08:26:16.265360",
     "exception": false,
     "start_time": "2023-02-21T08:26:16.255514",
     "status": "completed"
    },
    "tags": []
   },
   "source": [
    "Before we do PCA, we have to center and scale the data.\n",
    "- After centering, the average value for each gene will be 0\n",
    "- After scaling the standard deviation for the values for each gene will be 1."
   ]
  },
  {
   "cell_type": "code",
   "execution_count": 3,
   "id": "ff76a3de",
   "metadata": {
    "execution": {
     "iopub.execute_input": "2023-02-21T08:26:16.287230Z",
     "iopub.status.busy": "2023-02-21T08:26:16.286706Z",
     "iopub.status.idle": "2023-02-21T08:26:16.556355Z",
     "shell.execute_reply": "2023-02-21T08:26:16.555484Z"
    },
    "papermill": {
     "duration": 0.283725,
     "end_time": "2023-02-21T08:26:16.558891",
     "exception": false,
     "start_time": "2023-02-21T08:26:16.275166",
     "status": "completed"
    },
    "tags": []
   },
   "outputs": [
    {
     "data": {
      "image/png": "[encoded data removed]",
      "text/plain": [
       "<Figure size 432x288 with 1 Axes>"
      ]
     },
     "metadata": {
      "needs_background": "light"
     },
     "output_type": "display_data"
    }
   ],
   "source": [
    "# center and scaling the data\n",
    "scaled_data = preprocessing.scale(data.T)\n",
    "\n",
    "pca = PCA() # create PCA object\n",
    "pca.fit(scaled_data) # calculate loading scores and the variation each principal component accounts for\n",
    "pca_data = pca.transform(scaled_data) # generate coordinates for a PCA graph based on the loading scores and the scaled data\n",
    "\n",
    "# calculate the percentage of variation that each principal component accounts for\n",
    "per_var = np.round(pca.explained_variance_ratio_*100, decimals=1)\n",
    "# create labels for the scree plot\n",
    "labels = ['PC' + str(x) for x in range(1, len(per_var)+1)]\n",
    "\n",
    "# create a bar plot\n",
    "plt.bar(x=range(1,len(per_var)+1), height=per_var, tick_label=labels)\n",
    "plt.ylabel('Percentage of Explained Variance')\n",
    "plt.xlabel('Principal Complonent')\n",
    "plt.title('Scree Plot')\n",
    "plt.show()"
   ]
  },
  {
   "cell_type": "markdown",
   "id": "d34b2252",
   "metadata": {
    "papermill": {
     "duration": 0.010021,
     "end_time": "2023-02-21T08:26:16.579188",
     "exception": false,
     "start_time": "2023-02-21T08:26:16.569167",
     "status": "completed"
    },
    "tags": []
   },
   "source": [
    "To draw a PCA plot, we'll first put the new coordinates, created by pca.transform(scaled.data), into a nice matrix where the rows have sample labels and the columns have PC labels."
   ]
  },
  {
   "cell_type": "code",
   "execution_count": 4,
   "id": "624a11bb",
   "metadata": {
    "execution": {
     "iopub.execute_input": "2023-02-21T08:26:16.601756Z",
     "iopub.status.busy": "2023-02-21T08:26:16.600945Z",
     "iopub.status.idle": "2023-02-21T08:26:16.867383Z",
     "shell.execute_reply": "2023-02-21T08:26:16.866254Z"
    },
    "papermill": {
     "duration": 0.280344,
     "end_time": "2023-02-21T08:26:16.869849",
     "exception": false,
     "start_time": "2023-02-21T08:26:16.589505",
     "status": "completed"
    },
    "tags": []
   },
   "outputs": [
    {
     "data": {
      "image/png": "[encoded data removed]",
      "text/plain": [
       "<Figure size 432x288 with 1 Axes>"
      ]
     },
     "metadata": {
      "needs_background": "light"
     },
     "output_type": "display_data"
    }
   ],
   "source": [
    "# matrix of sample and PC\n",
    "pca_df = pd.DataFrame(pca_data, index=[*wt, *ko], columns=labels)\n",
    "\n",
    "# draw a scatter plot\n",
    "plt.scatter(pca_df.PC1, pca_df.PC2)\n",
    "plt.title('My PCA Graph')\n",
    "plt.xlabel('PC1 - {0}%'.format(per_var[0]))\n",
    "plt.ylabel('PC2 - {0}%'.format(per_var[1]))\n",
    "\n",
    "# add sample names to graph\n",
    "for sample in pca_df.index:\n",
    "    plt.annotate(sample, (pca_df.PC1.loc[sample], pca_df.PC2.loc[sample]))\n",
    "    \n",
    "plt.show()"
   ]
  },
  {
   "cell_type": "markdown",
   "id": "d8f34ad3",
   "metadata": {
    "papermill": {
     "duration": 0.011299,
     "end_time": "2023-02-21T08:26:16.896171",
     "exception": false,
     "start_time": "2023-02-21T08:26:16.884872",
     "status": "completed"
    },
    "tags": []
   },
   "source": [
    "- The \"wt\" are clustered on right side, suggesting that they are correlated with each other.\n",
    "- The \"ko\" are clustered on left side, suggesting that they are correlated with each other.\n",
    "- And the separation of the two clusters along the x-axis suggests that \"wt\" samples are very different from \"ko\" samples.\n",
    " \n",
    "Let's look at the loading scores for PC1 to determine which genes had the largest influence on separating the two clusters along the x-axis."
   ]
  },
  {
   "cell_type": "code",
   "execution_count": 5,
   "id": "036a737e",
   "metadata": {
    "execution": {
     "iopub.execute_input": "2023-02-21T08:26:16.921803Z",
     "iopub.status.busy": "2023-02-21T08:26:16.921512Z",
     "iopub.status.idle": "2023-02-21T08:26:16.933612Z",
     "shell.execute_reply": "2023-02-21T08:26:16.932869Z"
    },
    "papermill": {
     "duration": 0.027718,
     "end_time": "2023-02-21T08:26:16.935654",
     "exception": false,
     "start_time": "2023-02-21T08:26:16.907936",
     "status": "completed"
    },
    "tags": []
   },
   "outputs": [
    {
     "name": "stdout",
     "output_type": "stream",
     "text": [
      "gene31   -0.104983\n",
      "gene51    0.104975\n",
      "gene39   -0.104966\n",
      "gene54    0.104919\n",
      "gene90   -0.104900\n",
      "gene13   -0.104895\n",
      "gene28   -0.104888\n",
      "gene77   -0.104873\n",
      "gene24   -0.104868\n",
      "gene75   -0.104862\n",
      "dtype: float64\n"
     ]
    }
   ],
   "source": [
    "# Creating a \"Series\" object with the loading scores in PC1\n",
    "# the PCs are zero-indexed, so PC1 = 0\n",
    "loading_scores = pd.Series(pca.components_[0], index=genes)\n",
    "# sort the loading scores\n",
    "sorted_loading_scores = loading_scores.abs().sort_values(ascending=False)\n",
    "\n",
    "# getting the names of the top 10 indexes\n",
    "top_10_genes = sorted_loading_scores[0:10].index.values\n",
    "\n",
    "# top 10 gene names and their corresponding loading scores\n",
    "print(loading_scores[top_10_genes])"
   ]
  },
  {
   "cell_type": "markdown",
   "id": "7bf1830d",
   "metadata": {
    "papermill": {
     "duration": 0.01123,
     "end_time": "2023-02-21T08:26:16.958928",
     "exception": false,
     "start_time": "2023-02-21T08:26:16.947698",
     "status": "completed"
    },
    "tags": []
   },
   "source": [
    "And these values are super similar, so a lot of genes played a role in separating the samples, rather than just one or two."
   ]
  }
 ],
 "metadata": {
  "kernelspec": {
   "display_name": "Python 3",
   "language": "python",
   "name": "python3"
  },
  "language_info": {
   "codemirror_mode": {
    "name": "ipython",
    "version": 3
   },
   "file_extension": ".py",
   "mimetype": "text/x-python",
   "name": "python",
   "nbconvert_exporter": "python",
   "pygments_lexer": "ipython3",
   "version": "3.7.12"
  },
  "papermill": {
   "default_parameters": {},
   "duration": 12.515765,
   "end_time": "2023-02-21T08:26:17.691987",
   "environment_variables": {},
   "exception": null,
   "input_path": "__notebook__.ipynb",
   "output_path": "__notebook__.ipynb",
   "parameters": {},
   "start_time": "2023-02-21T08:26:05.176222",
   "version": "2.3.4"
  }
 },
 "nbformat": 4,
 "nbformat_minor": 5
}
